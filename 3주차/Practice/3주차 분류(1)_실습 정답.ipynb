{
 "cells": [
  {
   "cell_type": "markdown",
   "metadata": {},
   "source": [
    "3주차 분류(1)\n",
    "* practice : heart.csv"
   ]
  },
  {
   "cell_type": "markdown",
   "metadata": {},
   "source": [
    "1. unique count 칼럼이 의미하는 바가 무엇일까요?\n",
    "피처당 레이블 개수<br><br>\n",
    "2. 범주형/연속형, unique count의 값이 상대적으로 큰 피처들을 연속형 피처로 의심해본다 <br><br>\n",
    "3. descirbe()는 평균, 최소, 최대 등 알려주는데, 카테고리형에서 숫자는 의미 없기 때문 (그냥 레이블값), 연속형에서만 의미있다<br><br>\n",
    "4. 피처당 null값 몇개인지 알아보려고<br><br>\n",
    "5. EDA : 탐색적 데이터 분석<br><br>\n",
    "모델 바로 돌리기 전에 row data 살펴보기도 하고(describle, info), 결측치와 이상치 살펴보고 처리하기도 하고,  이렇게 나누기도 하고, 저렇게 나누기도 하고 여러 그래프를 그려보면서 데이터에 대해 이해하는 것. 분포 이상하면 표준화~. dataset만의 특성 파악 <br><br>\n",
    "6. Restecg - 1,0 많고 2 적음 (restecg- 안정시 심전도 결과 ~ 0 = 정상, 1 = ST-T파 정상, 2 = 좌심실 비대)<br><br>\n",
    "Thall - 2,3 많고 0,1 적음 (thall- 탈륨 스트레스 테스트 결과 ~ (0,3))<br>\n",
    "6-1. 빈도수가 낮은 범주에 속한 데이터에 대한 분석이 부정확할 것 같다<br><br>\n",
    "7. 피처를 모두 모델에 돌리기 앞서 피처 하나의 분포와 경향성 파악 -> 피처 하나와 레이블 사이관계 파악, 표준화<br><br>\n",
    "8. 두 변수 사이 연관성 나타내는 지표. 하나 증가할 때 다른 하나 따라 증가하면 1가깝, 반대면 -1가깝, 관련 없으면 0 / <br>표는 상관계수표. 대칭임 cf. 다중공산성<br><br>\n",
    "9. 주황색 높은 쪽이 발병확률 높음 / <br>성별에서는 female 발생확률 높음<br><br>\n",
    "10. 범주형은 원핫인코딩 with get_dummies/<br> 범주형,연속형 분리하고/<br> 연속형 데이터는 Robust Scaling <- 사분위 이용 조정\n",
    "(x-median/Q3-Q1)<br><br>\n",
    "11. <br>\n",
    "11-1. 결정트리의 깊이 깊어지면 과적합.<br>\n",
    "11-2. min_samples_split, min_sample_leaf, max_features, max_depth, max_leaf_nodes(min을 올리고, max를 낮춰야 과적합 방지)<br><br>\n",
    "12. 배깅, 결정트리 기반, 부스트래핑 샘플링 방식으로 개별 데이터 세트 할당, 학습<br><br>\n",
    "13. n_estimators : 결정 트리 개수<br>\n",
    "max_depth : 트리 깊이<br>\n",
    "subsample : 전체샘플에서 각 개별학습기가 학습할 데이터의 비율\n",
    "max_features : 최적의 분할을 위해 고려할 최대 피처 개수 (default: none, 모든 피처를 사용해 분할) / GridSearchCV<br><br>\n",
    "14. 부스팅 : 약한 학습기 순차적으로 합치는 것. 여기서 결정트리가 약한 학습기로 역할<br><br>\n",
    "15. target이 이진이라서<br><br>\n"
   ]
  }
 ],
 "metadata": {
  "language_info": {
   "name": "python"
  }
 },
 "nbformat": 4,
 "nbformat_minor": 2
}
